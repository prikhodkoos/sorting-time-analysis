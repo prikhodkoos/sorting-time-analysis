{
 "cells": [
  {
   "cell_type": "code",
   "execution_count": 2,
   "metadata": {},
   "outputs": [],
   "source": [
    "heap.building = function(vec)\n",
    "{\n",
    "  len=length(vec)\n",
    "  heap=vec\n",
    "  for (j in len:1)\n",
    "  {\n",
    "    heap=modify.heap(heap,j)\n",
    "  }\n",
    "  return(heap)\n",
    "}\n",
    "is.heap = function(heap,root_i)\n",
    "{\n",
    "  i=root_i\n",
    "  res=T\n",
    "  while(2*i<=length(heap)&res)\n",
    "  {\n",
    "    son=c(heap[2*i],heap[2*i+1])\n",
    "    son=son[!is.na(son)]\n",
    "    res=all(heap[i]<=son)\n",
    "    i=i+1\n",
    "  }\n",
    "  return(res)\n",
    "}\n",
    "modify.heap = function(heap,root_i)\n",
    "{\n",
    "  len=length(heap)\n",
    "  flag=1\n",
    "  \n",
    "  while (root_i*2<=len&&flag==1)\n",
    "  {\n",
    "    left_i=root_i*2\n",
    "    right_i=root_i*2+1\n",
    "    flag=0\n",
    "    son=c(heap[left_i],heap[right_i])\n",
    "    son=son[!is.na(son)]\n",
    "    min_ind=which.min(son)\n",
    "    if (heap[root_i]>son[min_ind])\n",
    "    {\n",
    "      flag=1\n",
    "      heap_ind=c(left_i,right_i)[min_ind]\n",
    "      \n",
    "      tmp=heap[heap_ind]\n",
    "      heap[heap_ind]=heap[root_i]\n",
    "      heap[root_i]=tmp\n",
    "      \n",
    "      root_i=heap_ind\n",
    "    }\n",
    "  }\n",
    "  return(heap)\n",
    "}\n",
    "\n",
    "heap.sort = function(heap)\n",
    "{\n",
    "  sorted=NULL\n",
    "  len=length(heap)\n",
    "  while(len>0)\n",
    "  {\n",
    "    sorted=c(sorted,heap[1])\n",
    "    len=length(heap)\n",
    "    heap[1]=heap[len]\n",
    "    heap=heap[1:(len-1)]\n",
    "    heap=modify.heap(heap,root_i=1)\n",
    "    len=len-1\n",
    "  }\n",
    "  return(sorted)\n",
    "}\n"
   ]
  },
  {
   "cell_type": "code",
   "execution_count": 3,
   "metadata": {},
   "outputs": [],
   "source": [
    "# time  for heapsort\n",
    "time = function(x){\n",
    "  destination = c()\n",
    "  for(i in c(1:50)){\n",
    "    n = as.numeric(system.time(heap.sort(heap.building(x)))[1])\n",
    "    destination = c(destination, n)\n",
    "  }\n",
    "  mean_value = mean(destination)\n",
    "  times = destination\n",
    "  \n",
    "  # print(times)\n",
    "  \n",
    "  destination\n",
    "}"
   ]
  },
  {
   "cell_type": "code",
   "execution_count": 4,
   "metadata": {},
   "outputs": [],
   "source": [
    "#percent function\n",
    "percent = function(sampl){\n",
    "  length.sampl = length(sampl)\n",
    "  unique.sampl = length(unique(sampl))\n",
    "  percent = 100-floor(100*unique.sampl/length.sampl)\n",
    "  percent\n",
    "}"
   ]
  },
  {
   "cell_type": "code",
   "execution_count": 5,
   "metadata": {},
   "outputs": [],
   "source": [
    "#percents with \"%\"\n",
    "percent_strings = function(per.s)\n",
    "{\n",
    "  percent.array = sprintf(\"%i%s\",per.s, \"%\" )\n",
    "  repeats = c()\n",
    "  \n",
    "  for (i in 1:6)\n",
    "  {\n",
    "    repeats = c(repeats,rep(percent.array[i],50))\n",
    "  }\n",
    "  repeats\n",
    "}"
   ]
  },
  {
   "cell_type": "code",
   "execution_count": 6,
   "metadata": {},
   "outputs": [],
   "source": [
    "#percents num\n",
    "percent_num = function(per.s)\n",
    "{\n",
    " \n",
    "  repeats = c()\n",
    "  \n",
    "  for (i in 1:6)\n",
    "  {\n",
    "    repeats = c(repeats,rep(per.s[i],50))\n",
    "  }\n",
    "  repeats\n",
    "}"
   ]
  },
  {
   "cell_type": "code",
   "execution_count": 7,
   "metadata": {},
   "outputs": [],
   "source": [
    "# create samples\n",
    "repeat_level1 = sample(1:1000000, 2000, replace=TRUE )\n",
    "\n",
    "repeat_level2 = sample(1:10000, 2000, replace = TRUE)\n",
    "\n",
    "repeat_level3 = sample(1000:4500, 2000, replace = TRUE)\n",
    "\n",
    "repeat_level4 = sample(1000:2000, 2000, replace = TRUE)\n",
    "\n",
    "repeat_level5 = sample(1000:1500, 2000, replace = TRUE)\n",
    "\n",
    "repeat_level6 = sample(1000:1100, 2000, replace = TRUE)"
   ]
  },
  {
   "cell_type": "code",
   "execution_count": 8,
   "metadata": {},
   "outputs": [
    {
     "data": {
      "text/html": [
       "<ol class=list-inline>\n",
       "\t<li>0</li>\n",
       "\t<li>10</li>\n",
       "\t<li>25</li>\n",
       "\t<li>57</li>\n",
       "\t<li>76</li>\n",
       "\t<li>95</li>\n",
       "</ol>\n"
      ],
      "text/latex": [
       "\\begin{enumerate*}\n",
       "\\item 0\n",
       "\\item 10\n",
       "\\item 25\n",
       "\\item 57\n",
       "\\item 76\n",
       "\\item 95\n",
       "\\end{enumerate*}\n"
      ],
      "text/markdown": [
       "1. 0\n",
       "2. 10\n",
       "3. 25\n",
       "4. 57\n",
       "5. 76\n",
       "6. 95\n",
       "\n",
       "\n"
      ],
      "text/plain": [
       "[1]  0 10 25 57 76 95"
      ]
     },
     "metadata": {},
     "output_type": "display_data"
    }
   ],
   "source": [
    "percents = c(percent(repeat_level1),\n",
    "             percent(repeat_level2),\n",
    "             percent(repeat_level3),\n",
    "             percent(repeat_level4),\n",
    "             percent(repeat_level5),\n",
    "             percent(repeat_level6))\n",
    "percents"
   ]
  },
  {
   "cell_type": "code",
   "execution_count": 9,
   "metadata": {},
   "outputs": [],
   "source": [
    "times = vector(mode = \"list\", length = 6)\n",
    "times[[1]] = time(repeat_level1)\n",
    "times[[2]] = time(repeat_level2)\n",
    "times[[3]] = time(repeat_level3)\n",
    "times[[4]] = time(repeat_level4)\n",
    "times[[5]] = time(repeat_level5)\n",
    "times[[6]] = time(repeat_level6)"
   ]
  },
  {
   "cell_type": "code",
   "execution_count": 10,
   "metadata": {},
   "outputs": [],
   "source": [
    "times.array = c()\n",
    "for (i in 1:6)\n",
    "    {\n",
    "    times.array = c(times.array,times[[i]])\n",
    "    }"
   ]
  },
  {
   "cell_type": "code",
   "execution_count": 12,
   "metadata": {},
   "outputs": [],
   "source": [
    "#create data\n",
    "percent.string = percent_strings(percents)\n",
    "datas = data.frame(times.array, percent.string)"
   ]
  },
  {
   "cell_type": "code",
   "execution_count": 13,
   "metadata": {},
   "outputs": [
    {
     "name": "stdout",
     "output_type": "stream",
     "text": [
      "'data.frame':\t300 obs. of  2 variables:\n",
      " $ times.array   : num  0.12 0.11 0.08 0.07 0.08 ...\n",
      " $ percent.string: Factor w/ 6 levels \"0%\",\"10%\",\"25%\",..: 1 1 1 1 1 1 1 1 1 1 ...\n"
     ]
    }
   ],
   "source": [
    "str(datas)"
   ]
  },
  {
   "cell_type": "code",
   "execution_count": 14,
   "metadata": {},
   "outputs": [
    {
     "name": "stdout",
     "output_type": "stream",
     "text": [
      "'data.frame':\t300 obs. of  2 variables:\n",
      " $ times.array: num  0.12 0.11 0.08 0.07 0.08 ...\n",
      " $ percent.num: num  0 0 0 0 0 0 0 0 0 0 ...\n"
     ]
    }
   ],
   "source": [
    "percent.num = percent_num(percents)\n",
    "## \n",
    "datass = data.frame(times.array,percent.num)\n",
    "str(datass)"
   ]
  },
  {
   "cell_type": "code",
   "execution_count": 15,
   "metadata": {},
   "outputs": [
    {
     "data": {
      "image/png": "[encoded data removed]",
      "text/plain": [
       "plot without title"
      ]
     },
     "metadata": {},
     "output_type": "display_data"
    }
   ],
   "source": [
    "boxplot(times.array ~ percent.string, data = datas)"
   ]
  },
  {
   "cell_type": "code",
   "execution_count": 16,
   "metadata": {},
   "outputs": [
    {
     "name": "stderr",
     "output_type": "stream",
     "text": [
      "Warning message:\n",
      "\"package 'ggplot2' was built under R version 3.4.4\""
     ]
    },
    {
     "data": {},
     "metadata": {},
     "output_type": "display_data"
    },
    {
     "data": {
      "image/png": "[encoded data removed]",
      "text/plain": [
       "plot without title"
      ]
     },
     "metadata": {},
     "output_type": "display_data"
    }
   ],
   "source": [
    "#the same plot but through ggplot\n",
    "library(ggplot2)\n",
    "\n",
    "ggplot(datas, aes(x = percent.string, y = times.array)) + geom_boxplot()"
   ]
  },
  {
   "cell_type": "code",
   "execution_count": 17,
   "metadata": {},
   "outputs": [
    {
     "data": {
      "text/plain": [
       "                Df Sum Sq  Mean Sq F value Pr(>F)  \n",
       "percent.string   5 0.0176 0.003524   2.529 0.0292 *\n",
       "Residuals      294 0.4097 0.001394                 \n",
       "---\n",
       "Signif. codes:  0 '***' 0.001 '**' 0.01 '*' 0.05 '.' 0.1 ' ' 1"
      ]
     },
     "metadata": {},
     "output_type": "display_data"
    }
   ],
   "source": [
    "result = aov(times.array ~ percent.string, data = datas)\n",
    "summary(result) ## p-value > 0.05 cant break that times are the same\n",
    "## repeats dont inluence on times"
   ]
  },
  {
   "cell_type": "code",
   "execution_count": 18,
   "metadata": {},
   "outputs": [
    {
     "data": {
      "image/png": "[encoded data removed]",
      "text/plain": [
       "Plot with title \"95% family-wise confidence level\n",
       "\""
      ]
     },
     "metadata": {},
     "output_type": "display_data"
    }
   ],
   "source": [
    "# how diference between every 2 factors\n",
    "tuk = TukeyHSD(result)\n",
    "plot(TukeyHSD(result))"
   ]
  },
  {
   "cell_type": "code",
   "execution_count": 19,
   "metadata": {},
   "outputs": [
    {
     "data": {
      "text/plain": [
       "Tables of means\n",
       "Grand mean\n",
       "          \n",
       "0.1115667 \n",
       "\n",
       " percent.string \n",
       "percent.string\n",
       "    0%    10%    25%    57%    76%    95% \n",
       "0.1112 0.0970 0.1130 0.1232 0.1132 0.1118 "
      ]
     },
     "metadata": {},
     "output_type": "display_data"
    }
   ],
   "source": [
    "# means model\n",
    "model.tables(result, \"means\")"
   ]
  }
 ],
 "metadata": {
  "kernelspec": {
   "display_name": "R",
   "language": "R",
   "name": "ir"
  },
  "language_info": {
   "codemirror_mode": "r",
   "file_extension": ".r",
   "mimetype": "text/x-r-source",
   "name": "R",
   "pygments_lexer": "r",
   "version": "3.4.3"
  }
 },
 "nbformat": 4,
 "nbformat_minor": 2
}
